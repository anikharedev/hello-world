{
 "cells": [
  {
   "cell_type": "code",
   "execution_count": 4,
   "id": "2d25db12",
   "metadata": {},
   "outputs": [
    {
     "name": "stdout",
     "output_type": "stream",
     "text": [
      "I live in New York\n",
      "You are at the destination\n"
     ]
    }
   ],
   "source": [
    "##\n",
    "## Practice Data Types\n",
    "##\n",
    "\n",
    "## Whenever we want to use data, we declare and assign it to a \"variable\", in this case, my_city\n",
    "my_city = \"New York\"\n",
    "\n",
    "print (\"I live in\", my_city)\n",
    "\n",
    "current_floor = 6\n",
    "destination_floor = 6\n",
    "\n",
    "if (current_floor < destination_floor):\n",
    "    print (\"You need to go up\")\n",
    "elif (current_floor > destination_floor):\n",
    "    print (\"You need to go down\")\n",
    "elif (current_floor == destination_floor):\n",
    "    print (\"You are at the destination\")\n",
    "\n",
    "\n"
   ]
  },
  {
   "cell_type": "code",
   "execution_count": 15,
   "id": "0b88c300",
   "metadata": {},
   "outputs": [
    {
     "name": "stdout",
     "output_type": "stream",
     "text": [
      "What country are you in?\n",
      "India\n",
      "What city are you going to?\n",
      "New York\n",
      "You need a visa to visit New York\n"
     ]
    }
   ],
   "source": [
    "\n",
    "\n",
    "print (\"What country are you in?\")\n",
    "my_country = input()\n",
    "\n",
    "print (\"What city are you going to?\")\n",
    "dest_city = input()\n",
    "\n",
    "if (my_country == \"USA\" or my_country == \"United States\" or my_country == \"United States of America\"):\n",
    "    print (\"You don't need a visa to visit \", dest_city)\n",
    "else:\n",
    "    print (\"You need a visa to visit\", dest_city)\n"
   ]
  },
  {
   "cell_type": "code",
   "execution_count": null,
   "id": "ccc21a2e",
   "metadata": {},
   "outputs": [],
   "source": []
  },
  {
   "cell_type": "code",
   "execution_count": null,
   "id": "a1fbf74c",
   "metadata": {},
   "outputs": [],
   "source": []
  }
 ],
 "metadata": {
  "kernelspec": {
   "display_name": "Python 3",
   "language": "python",
   "name": "python3"
  }
 },
 "nbformat": 4,
 "nbformat_minor": 5
}
