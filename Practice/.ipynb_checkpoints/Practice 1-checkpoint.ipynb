{
 "cells": [
  {
   "cell_type": "code",
   "execution_count": null,
   "id": "56145def",
   "metadata": {},
   "outputs": [],
   "source": [
    "##\n",
    "## Practice Data Types\n",
    "##\n",
    "\n",
    "## Whenever we want to use data, we declare and assign it to a \"variable\", in this case, my_city\n",
    "my_city = \"New York\"\n",
    "\n",
    "print (\"I live in\", my_city)\n",
    "\n",
    "current_floor = 6\n",
    "destination_floor = 6\n",
    "\n",
    "if (current_floor < destination_floor):\n",
    "    print (\"You need to go up\")\n",
    "elif (current_floor > destination_floor):\n",
    "    print (\"You need to go down\")\n",
    "elif (current_floor == destination_floor):\n",
    "    print (\"You are at the destination\")\n",
    "\n",
    "\n"
   ]
  },
  {
   "cell_type": "code",
   "execution_count": null,
   "id": "222bffb6",
   "metadata": {},
   "outputs": [],
   "source": [
    "\n",
    "\n",
    "print (\"What country are you in?\")\n",
    "#my_country = input()\n",
    "\n",
    "#If my_country == \"USA\": #or my_country == \"United States\" or my_country == \"United States of America\":\n",
    "#    print (\"You don't need a visa to visit \", my_country)\n",
    "#elif:\n",
    "#    print (\"You need a visa to visit\", my_country)\n"
   ]
  },
  {
   "cell_type": "code",
   "execution_count": null,
   "id": "0b45829e",
   "metadata": {},
   "outputs": [],
   "source": [
    "print (\"What country are you in?\")"
   ]
  },
  {
   "cell_type": "code",
   "execution_count": null,
   "id": "da23c031",
   "metadata": {},
   "outputs": [],
   "source": []
  }
 ],
 "metadata": {
  "kernelspec": {
   "display_name": "Python 3",
   "language": "python",
   "name": "python3"
  },
  "language_info": {
   "codemirror_mode": {
    "name": "ipython",
    "version": 3
   },
   "file_extension": ".py",
   "mimetype": "text/x-python",
   "name": "python",
   "nbconvert_exporter": "python",
   "pygments_lexer": "ipython3",
   "version": "3.8.8"
  }
 },
 "nbformat": 4,
 "nbformat_minor": 5
}
